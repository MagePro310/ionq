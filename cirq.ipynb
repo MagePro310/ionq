{
 "cells": [
  {
   "cell_type": "code",
   "execution_count": 2,
   "id": "88d66c30",
   "metadata": {},
   "outputs": [],
   "source": [
    "my_api_key = \"Z47Z93U4ZOojFB0M9Z7jGICNAecEHAOI\""
   ]
  },
  {
   "cell_type": "code",
   "execution_count": 4,
   "id": "27143e1a",
   "metadata": {},
   "outputs": [],
   "source": [
    "import cirq_ionq\n",
    "service = cirq_ionq.Service(api_key=my_api_key)"
   ]
  },
  {
   "cell_type": "code",
   "execution_count": 5,
   "id": "dc8ece9d",
   "metadata": {},
   "outputs": [
    {
     "name": "stdout",
     "output_type": "stream",
     "text": [
      "0: ───H───@───M('x')───\n",
      "          │   │\n",
      "1: ───────X───M────────\n"
     ]
    }
   ],
   "source": [
    "import cirq\n",
    "\n",
    "q0, q1 = cirq.LineQubit.range(2)\n",
    "circuit = cirq.Circuit(\n",
    "    cirq.H(q0),\n",
    "    cirq.CNOT(q0, q1),\n",
    "    cirq.measure(q0, q1, key='x') \n",
    ")\n",
    "\n",
    "print(circuit)"
   ]
  },
  {
   "cell_type": "code",
   "execution_count": 6,
   "id": "c0131a49",
   "metadata": {},
   "outputs": [
    {
     "name": "stdout",
     "output_type": "stream",
     "text": [
      "Counter({3: 503, 0: 497})\n"
     ]
    }
   ],
   "source": [
    "result = service.run(\n",
    "    circuit=circuit,\n",
    "    target=\"simulator\",\n",
    "    repetitions=1000,\n",
    "    name=\"Hello simulator, Cirq\"\n",
    ")\n",
    "\n",
    "print(result.histogram(key='x'))"
   ]
  },
  {
   "cell_type": "code",
   "execution_count": 7,
   "id": "70bf7d9c",
   "metadata": {},
   "outputs": [],
   "source": [
    "result = service.run(\n",
    "    circuit=circuit,\n",
    "    target=\"simulator\",\n",
    "    repetitions=1000,\n",
    "    extra_query_params={\"noise\": {\"model\": \"aria-1\"}}\n",
    ")"
   ]
  },
  {
   "cell_type": "code",
   "execution_count": 8,
   "id": "66fdd552",
   "metadata": {},
   "outputs": [],
   "source": [
    "result = service.run(\n",
    "    circuit=circuit,\n",
    "    target=\"simulator\",\n",
    "    repetitions=1000,\n",
    "    name=\"Hello noisy simulator, Cirq\",\n",
    "    extra_query_params={\"noise\": {\"model\": \"aria-1\"}}\n",
    ")"
   ]
  },
  {
   "cell_type": "code",
   "execution_count": 12,
   "id": "8642dbd7",
   "metadata": {},
   "outputs": [
    {
     "name": "stdout",
     "output_type": "stream",
     "text": [
      "0: ───H───@───@───M('x')───\n",
      "          │   │   │\n",
      "1: ───────X───@───M────────\n",
      "              │   │\n",
      "2: ───────────X───M────────\n"
     ]
    }
   ],
   "source": [
    "q0, q1, q2 = cirq.LineQubit.range(3)\n",
    "circuit = cirq.Circuit(\n",
    "    cirq.H(q0),\n",
    "    cirq.CNOT(q0, q1),\n",
    "    cirq.TOFFOLI(q0, q1, q2),\n",
    "    cirq.measure(q0, q1, q2, key='x') \n",
    ")\n",
    "\n",
    "print(circuit)"
   ]
  },
  {
   "cell_type": "code",
   "execution_count": 13,
   "id": "40e051ec",
   "metadata": {},
   "outputs": [
    {
     "name": "stdout",
     "output_type": "stream",
     "text": [
      "0: ───H───@──────────────────@──────────────────@───@───T──────@───M('x')───\n",
      "          │                  │                  │   │          │   │\n",
      "1: ───────X───────@──────────┼───────@───T──────┼───X───T^-1───X───M────────\n",
      "                  │          │       │          │                  │\n",
      "2: ───────────H───X───T^-1───X───T───X───T^-1───X───T───H──────────M────────\n"
     ]
    }
   ],
   "source": [
    "target_gateset = cirq_ionq.ionq_gateset.IonQTargetGateset()\n",
    "circuit2 = cirq.optimize_for_target_gateset(\n",
    "    circuit,\n",
    "    gateset=target_gateset\n",
    "    )\n",
    "\n",
    "print(circuit2)"
   ]
  }
 ],
 "metadata": {
  "kernelspec": {
   "display_name": "ionq",
   "language": "python",
   "name": "python3"
  },
  "language_info": {
   "codemirror_mode": {
    "name": "ipython",
    "version": 3
   },
   "file_extension": ".py",
   "mimetype": "text/x-python",
   "name": "python",
   "nbconvert_exporter": "python",
   "pygments_lexer": "ipython3",
   "version": "3.11.13"
  }
 },
 "nbformat": 4,
 "nbformat_minor": 5
}
