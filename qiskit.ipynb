{
 "cells": [
  {
   "cell_type": "code",
   "execution_count": 11,
   "id": "43aa81a2",
   "metadata": {},
   "outputs": [],
   "source": [
    "my_api_key = \"Z47Z93U4ZOojFB0M9Z7jGICNAecEHAOI\""
   ]
  },
  {
   "cell_type": "code",
   "execution_count": 12,
   "id": "1cf36727",
   "metadata": {},
   "outputs": [
    {
     "name": "stdout",
     "output_type": "stream",
     "text": [
      "{'00': np.int64(5015), '11': np.int64(4985)}\n"
     ]
    }
   ],
   "source": [
    "from qiskit import QuantumCircuit\n",
    "from qiskit_ionq import IonQProvider\n",
    "\n",
    "\n",
    "provider = IonQProvider(my_api_key)\n",
    "simulator_backend = provider.get_backend(\"simulator\")\n",
    "\n",
    "# Create a basic Bell State circuit:\n",
    "qc = QuantumCircuit(2, 2, name=\"IonQ Qiskit guide - simulator example\")\n",
    "qc.h(0)\n",
    "qc.cx(0, 1)\n",
    "qc.measure([0, 1], [0, 1])\n",
    "\n",
    "# Run the circuit on IonQ's platform:\n",
    "job = simulator_backend.run(qc, shots=10000)\n",
    "\n",
    "# Print the counts\n",
    "print(job.get_counts())"
   ]
  },
  {
   "cell_type": "code",
   "execution_count": 13,
   "id": "beee5824",
   "metadata": {},
   "outputs": [
    {
     "name": "stdout",
     "output_type": "stream",
     "text": [
      "[{'00': np.int64(504), '11': np.int64(520)}, {'000': np.int64(494), '111': np.int64(530)}]\n",
      "{'00': np.int64(524), '11': np.int64(500)}\n"
     ]
    }
   ],
   "source": [
    "from qiskit import QuantumCircuit\n",
    "from qiskit_ionq import IonQProvider\n",
    "\n",
    "provider = IonQProvider(my_api_key)\n",
    "simulator_backend = provider.get_backend(\"simulator\")\n",
    "\n",
    "# Define two quantum circuits\n",
    "qc1 = QuantumCircuit(2, name=\"IonQ Qiskit guide - Bell state\")\n",
    "qc1.h(0)\n",
    "qc1.cx(0, 1)\n",
    "qc1.measure_all()\n",
    "\n",
    "qc2 = QuantumCircuit(3, name=\"IonQ Qiskit guide - GHZ state\")\n",
    "qc2.h(0)\n",
    "qc2.cx(0, 1)\n",
    "qc2.cx(0, 2)\n",
    "qc2.measure_all()\n",
    "\n",
    "# Submit both circuits as a single job\n",
    "job = simulator_backend.run([qc1, qc2])\n",
    "\n",
    "# Print the results\n",
    "print(job.get_counts())\n",
    "\n",
    "# Or a specific job\n",
    "print(job.get_counts(qc1))"
   ]
  },
  {
   "cell_type": "code",
   "execution_count": 14,
   "id": "14aa024e",
   "metadata": {},
   "outputs": [
    {
     "name": "stdout",
     "output_type": "stream",
     "text": [
      "{'00': 4928, '01': 39, '10': 38, '11': 4995}\n"
     ]
    }
   ],
   "source": [
    "from qiskit import QuantumCircuit\n",
    "from qiskit_ionq import IonQProvider\n",
    "\n",
    "provider = IonQProvider(my_api_key)\n",
    "simulator_backend = provider.get_backend(\"simulator\")\n",
    "simulator_backend.set_options(noise_model=\"aria-1\")\n",
    "\n",
    "# Create a basic Bell State circuit:\n",
    "qc = QuantumCircuit(2, 2, name=\"IonQ Qiskit guide - noisy sim example\")\n",
    "qc.h(0)\n",
    "qc.cx(0, 1)\n",
    "qc.measure([0, 1], [0, 1])\n",
    "\n",
    "# Run the circuit on IonQ's platform:\n",
    "job = simulator_backend.run(qc, shots=10000)\n",
    "\n",
    "# Print the counts\n",
    "print(job.get_counts())"
   ]
  },
  {
   "cell_type": "code",
   "execution_count": 15,
   "id": "846e0dff",
   "metadata": {},
   "outputs": [
    {
     "ename": "IonQAPIError",
     "evalue": "IonQAPIError(message='Unable to run jobs on IonQ Aria. Please visit our Quantum Cloud Page https://ionq.com/quantum-cloud to learn more about getting access to our IonQ Aria.',status_code=400,headers={'Date': 'Mon, 11 Aug 2025 03:00:53 GMT', 'Content-Type': 'application/json; charset=utf-8', 'Transfer-Encoding': 'chunked', 'Connection': 'keep-alive', 'CF-RAY': '96d47c393a888b92-HKG', 'access-control-allow-credentials': 'true', 'access-control-expose-headers': 'x-ionq-session', 'Cache-Control': 'no-cache', 'strict-transport-security': 'max-age=31536000; includeSubDomains', 'vary': 'origin, Origin', 'x-frame-options': 'DENY', 'cf-cache-status': 'DYNAMIC', 'Server': 'cloudflare'},body={\"error\":\"Bad Request\",\"statusCode\":400,\"message\":\"Unable to run jobs on IonQ Aria. Please visit our Quantum Cloud Page https://ionq.com/quantum-cloud to learn more about getting access to our IonQ Aria.\"},error_type='Bad Request')",
     "output_type": "error",
     "traceback": [
      "\u001b[31m---------------------------------------------------------------------------\u001b[39m",
      "\u001b[31mIonQAPIError\u001b[39m                              Traceback (most recent call last)",
      "\u001b[36mCell\u001b[39m\u001b[36m \u001b[39m\u001b[32mIn[15]\u001b[39m\u001b[32m, line 11\u001b[39m\n\u001b[32m      8\u001b[39m qc.measure([\u001b[32m0\u001b[39m, \u001b[32m1\u001b[39m], [\u001b[32m0\u001b[39m, \u001b[32m1\u001b[39m])\n\u001b[32m     10\u001b[39m \u001b[38;5;66;03m# Run the circuit on IonQ's platform:\u001b[39;00m\n\u001b[32m---> \u001b[39m\u001b[32m11\u001b[39m job = \u001b[43mqpu_backend\u001b[49m\u001b[43m.\u001b[49m\u001b[43mrun\u001b[49m\u001b[43m(\u001b[49m\u001b[43mqc\u001b[49m\u001b[43m,\u001b[49m\u001b[43m \u001b[49m\u001b[43mshots\u001b[49m\u001b[43m=\u001b[49m\u001b[32;43m10000\u001b[39;49m\u001b[43m)\u001b[49m\n\u001b[32m     13\u001b[39m \u001b[38;5;66;03m# Print the job ID\u001b[39;00m\n\u001b[32m     14\u001b[39m \u001b[38;5;28mprint\u001b[39m(job.job_id())\n",
      "\u001b[36mFile \u001b[39m\u001b[32m~/anaconda3/envs/ionq/lib/python3.11/site-packages/qiskit_ionq/ionq_backend.py:171\u001b[39m, in \u001b[36mIonQBackend.run\u001b[39m\u001b[34m(self, circuit, **kwargs)\u001b[39m\n\u001b[32m    162\u001b[39m passed_args = kwargs\n\u001b[32m    164\u001b[39m job = ionq_job.IonQJob(\n\u001b[32m    165\u001b[39m     \u001b[38;5;28mself\u001b[39m,\n\u001b[32m    166\u001b[39m     \u001b[38;5;28;01mNone\u001b[39;00m,\n\u001b[32m   (...)\u001b[39m\u001b[32m    169\u001b[39m     passed_args=passed_args,\n\u001b[32m    170\u001b[39m )\n\u001b[32m--> \u001b[39m\u001b[32m171\u001b[39m \u001b[43mjob\u001b[49m\u001b[43m.\u001b[49m\u001b[43msubmit\u001b[49m\u001b[43m(\u001b[49m\u001b[43m)\u001b[49m\n\u001b[32m    172\u001b[39m \u001b[38;5;28;01mreturn\u001b[39;00m job\n",
      "\u001b[36mFile \u001b[39m\u001b[32m~/anaconda3/envs/ionq/lib/python3.11/site-packages/qiskit_ionq/ionq_job.py:223\u001b[39m, in \u001b[36mIonQJob.submit\u001b[39m\u001b[34m(self)\u001b[39m\n\u001b[32m    218\u001b[39m \u001b[38;5;28;01mif\u001b[39;00m \u001b[38;5;28mself\u001b[39m.circuit \u001b[38;5;129;01mis\u001b[39;00m \u001b[38;5;28;01mNone\u001b[39;00m:\n\u001b[32m    219\u001b[39m     \u001b[38;5;28;01mraise\u001b[39;00m exceptions.IonQJobError(\n\u001b[32m    220\u001b[39m         \u001b[33m\"\u001b[39m\u001b[33mCannot submit a job without a circuit. \u001b[39m\u001b[33m\"\u001b[39m\n\u001b[32m    221\u001b[39m         \u001b[33m\"\u001b[39m\u001b[33mPlease create a job with a circuit and try again.\u001b[39m\u001b[33m\"\u001b[39m\n\u001b[32m    222\u001b[39m     )\n\u001b[32m--> \u001b[39m\u001b[32m223\u001b[39m response = \u001b[38;5;28;43mself\u001b[39;49m\u001b[43m.\u001b[49m\u001b[43m_client\u001b[49m\u001b[43m.\u001b[49m\u001b[43msubmit_job\u001b[49m\u001b[43m(\u001b[49m\u001b[43mjob\u001b[49m\u001b[43m=\u001b[49m\u001b[38;5;28;43mself\u001b[39;49m\u001b[43m)\u001b[49m\n\u001b[32m    224\u001b[39m \u001b[38;5;28mself\u001b[39m._job_id = response[\u001b[33m\"\u001b[39m\u001b[33mid\u001b[39m\u001b[33m\"\u001b[39m]\n",
      "\u001b[36mFile \u001b[39m\u001b[32m~/anaconda3/envs/ionq/lib/python3.11/site-packages/qiskit_ionq/helpers.py:678\u001b[39m, in \u001b[36mretry.<locals>.deco_retry.<locals>.f_retry\u001b[39m\u001b[34m(*args, **kwargs)\u001b[39m\n\u001b[32m    676\u001b[39m \u001b[38;5;28;01mwhile\u001b[39;00m _tries != \u001b[32m0\u001b[39m:\n\u001b[32m    677\u001b[39m     \u001b[38;5;28;01mtry\u001b[39;00m:\n\u001b[32m--> \u001b[39m\u001b[32m678\u001b[39m         \u001b[38;5;28;01mreturn\u001b[39;00m \u001b[43mfunc\u001b[49m\u001b[43m(\u001b[49m\u001b[43m*\u001b[49m\u001b[43margs\u001b[49m\u001b[43m,\u001b[49m\u001b[43m \u001b[49m\u001b[43m*\u001b[49m\u001b[43m*\u001b[49m\u001b[43mkwargs\u001b[49m\u001b[43m)\u001b[49m\n\u001b[32m    679\u001b[39m     \u001b[38;5;28;01mexcept\u001b[39;00m exceptions \u001b[38;5;28;01mas\u001b[39;00m exception:\n\u001b[32m    680\u001b[39m         _tries -= \u001b[32m1\u001b[39m\n",
      "\u001b[36mFile \u001b[39m\u001b[32m~/anaconda3/envs/ionq/lib/python3.11/site-packages/qiskit_ionq/ionq_client.py:148\u001b[39m, in \u001b[36mIonQClient.submit_job\u001b[39m\u001b[34m(self, job)\u001b[39m\n\u001b[32m    141\u001b[39m req_path = \u001b[38;5;28mself\u001b[39m.make_path(\u001b[33m\"\u001b[39m\u001b[33mjobs\u001b[39m\u001b[33m\"\u001b[39m)\n\u001b[32m    142\u001b[39m res = requests.post(\n\u001b[32m    143\u001b[39m     req_path,\n\u001b[32m    144\u001b[39m     data=as_json,\n\u001b[32m    145\u001b[39m     headers=\u001b[38;5;28mself\u001b[39m.api_headers,\n\u001b[32m    146\u001b[39m     timeout=\u001b[32m30\u001b[39m,\n\u001b[32m    147\u001b[39m )\n\u001b[32m--> \u001b[39m\u001b[32m148\u001b[39m \u001b[43mexceptions\u001b[49m\u001b[43m.\u001b[49m\u001b[43mIonQAPIError\u001b[49m\u001b[43m.\u001b[49m\u001b[43mraise_for_status\u001b[49m\u001b[43m(\u001b[49m\u001b[43mres\u001b[49m\u001b[43m)\u001b[49m\n\u001b[32m    149\u001b[39m \u001b[38;5;28;01mreturn\u001b[39;00m res.json()\n",
      "\u001b[36mFile \u001b[39m\u001b[32m~/anaconda3/envs/ionq/lib/python3.11/site-packages/qiskit_ionq/exceptions.py:124\u001b[39m, in \u001b[36mIonQAPIError.raise_for_status\u001b[39m\u001b[34m(cls, response)\u001b[39m\n\u001b[32m    122\u001b[39m \u001b[38;5;28;01mif\u001b[39;00m _is_retriable(response.request.method, status_code):\n\u001b[32m    123\u001b[39m     \u001b[38;5;28;01mraise\u001b[39;00m IonQRetriableError(res)\n\u001b[32m--> \u001b[39m\u001b[32m124\u001b[39m \u001b[38;5;28;01mraise\u001b[39;00m res\n",
      "\u001b[31mIonQAPIError\u001b[39m: IonQAPIError(message='Unable to run jobs on IonQ Aria. Please visit our Quantum Cloud Page https://ionq.com/quantum-cloud to learn more about getting access to our IonQ Aria.',status_code=400,headers={'Date': 'Mon, 11 Aug 2025 03:00:53 GMT', 'Content-Type': 'application/json; charset=utf-8', 'Transfer-Encoding': 'chunked', 'Connection': 'keep-alive', 'CF-RAY': '96d47c393a888b92-HKG', 'access-control-allow-credentials': 'true', 'access-control-expose-headers': 'x-ionq-session', 'Cache-Control': 'no-cache', 'strict-transport-security': 'max-age=31536000; includeSubDomains', 'vary': 'origin, Origin', 'x-frame-options': 'DENY', 'cf-cache-status': 'DYNAMIC', 'Server': 'cloudflare'},body={\"error\":\"Bad Request\",\"statusCode\":400,\"message\":\"Unable to run jobs on IonQ Aria. Please visit our Quantum Cloud Page https://ionq.com/quantum-cloud to learn more about getting access to our IonQ Aria.\"},error_type='Bad Request')"
     ]
    }
   ],
   "source": [
    "# Set up the Aria-1 QPU backend:\n",
    "qpu_backend = provider.get_backend(\"qpu.aria-1\")\n",
    "\n",
    "# Create a basic Bell State circuit:\n",
    "qc = QuantumCircuit(2, 2, name=\"IonQ Qiskit guide - Aria 1 example\")\n",
    "qc.h(0)\n",
    "qc.cx(0, 1)\n",
    "qc.measure([0, 1], [0, 1])\n",
    "\n",
    "# Run the circuit on IonQ's platform:\n",
    "job = qpu_backend.run(qc, shots=10000)\n",
    "\n",
    "# Print the job ID\n",
    "print(job.job_id())"
   ]
  },
  {
   "cell_type": "code",
   "execution_count": 16,
   "id": "a438b054",
   "metadata": {},
   "outputs": [
    {
     "ename": "IonQAPIError",
     "evalue": "IonQAPIError(message='Unable to run jobs on IonQ Aria. Please visit our Quantum Cloud Page https://ionq.com/quantum-cloud to learn more about getting access to our IonQ Aria.',status_code=400,headers={'Date': 'Mon, 11 Aug 2025 03:04:13 GMT', 'Content-Type': 'application/json; charset=utf-8', 'Transfer-Encoding': 'chunked', 'Connection': 'keep-alive', 'CF-RAY': '96d4811cf826f4fc-HKG', 'access-control-allow-credentials': 'true', 'access-control-expose-headers': 'x-ionq-session', 'Cache-Control': 'no-cache', 'strict-transport-security': 'max-age=31536000; includeSubDomains', 'vary': 'origin, Origin', 'x-frame-options': 'DENY', 'cf-cache-status': 'DYNAMIC', 'Server': 'cloudflare'},body={\"statusCode\":400,\"error\":\"Bad Request\",\"message\":\"Unable to run jobs on IonQ Aria. Please visit our Quantum Cloud Page https://ionq.com/quantum-cloud to learn more about getting access to our IonQ Aria.\"},error_type='Bad Request')",
     "output_type": "error",
     "traceback": [
      "\u001b[31m---------------------------------------------------------------------------\u001b[39m",
      "\u001b[31mIonQAPIError\u001b[39m                              Traceback (most recent call last)",
      "\u001b[36mCell\u001b[39m\u001b[36m \u001b[39m\u001b[32mIn[16]\u001b[39m\u001b[32m, line 14\u001b[39m\n\u001b[32m     11\u001b[39m qc.measure([\u001b[32m0\u001b[39m, \u001b[32m1\u001b[39m], [\u001b[32m0\u001b[39m, \u001b[32m1\u001b[39m])\n\u001b[32m     13\u001b[39m \u001b[38;5;66;03m# Run the circuit on IonQ's platform:\u001b[39;00m\n\u001b[32m---> \u001b[39m\u001b[32m14\u001b[39m job = \u001b[43mqpu_backend\u001b[49m\u001b[43m.\u001b[49m\u001b[43mrun\u001b[49m\u001b[43m(\u001b[49m\n\u001b[32m     15\u001b[39m \u001b[43m    \u001b[49m\u001b[43mqc\u001b[49m\u001b[43m,\u001b[49m\n\u001b[32m     16\u001b[39m \u001b[43m    \u001b[49m\u001b[43mshots\u001b[49m\u001b[43m=\u001b[49m\u001b[32;43m1000\u001b[39;49m\u001b[43m,\u001b[49m\n\u001b[32m     17\u001b[39m \u001b[43m    \u001b[49m\u001b[43merror_mitigation\u001b[49m\u001b[43m=\u001b[49m\u001b[43mErrorMitigation\u001b[49m\u001b[43m.\u001b[49m\u001b[43mNO_DEBIASING\u001b[49m\n\u001b[32m     18\u001b[39m \u001b[43m)\u001b[49m\n",
      "\u001b[36mFile \u001b[39m\u001b[32m~/anaconda3/envs/ionq/lib/python3.11/site-packages/qiskit_ionq/ionq_backend.py:171\u001b[39m, in \u001b[36mIonQBackend.run\u001b[39m\u001b[34m(self, circuit, **kwargs)\u001b[39m\n\u001b[32m    162\u001b[39m passed_args = kwargs\n\u001b[32m    164\u001b[39m job = ionq_job.IonQJob(\n\u001b[32m    165\u001b[39m     \u001b[38;5;28mself\u001b[39m,\n\u001b[32m    166\u001b[39m     \u001b[38;5;28;01mNone\u001b[39;00m,\n\u001b[32m   (...)\u001b[39m\u001b[32m    169\u001b[39m     passed_args=passed_args,\n\u001b[32m    170\u001b[39m )\n\u001b[32m--> \u001b[39m\u001b[32m171\u001b[39m \u001b[43mjob\u001b[49m\u001b[43m.\u001b[49m\u001b[43msubmit\u001b[49m\u001b[43m(\u001b[49m\u001b[43m)\u001b[49m\n\u001b[32m    172\u001b[39m \u001b[38;5;28;01mreturn\u001b[39;00m job\n",
      "\u001b[36mFile \u001b[39m\u001b[32m~/anaconda3/envs/ionq/lib/python3.11/site-packages/qiskit_ionq/ionq_job.py:223\u001b[39m, in \u001b[36mIonQJob.submit\u001b[39m\u001b[34m(self)\u001b[39m\n\u001b[32m    218\u001b[39m \u001b[38;5;28;01mif\u001b[39;00m \u001b[38;5;28mself\u001b[39m.circuit \u001b[38;5;129;01mis\u001b[39;00m \u001b[38;5;28;01mNone\u001b[39;00m:\n\u001b[32m    219\u001b[39m     \u001b[38;5;28;01mraise\u001b[39;00m exceptions.IonQJobError(\n\u001b[32m    220\u001b[39m         \u001b[33m\"\u001b[39m\u001b[33mCannot submit a job without a circuit. \u001b[39m\u001b[33m\"\u001b[39m\n\u001b[32m    221\u001b[39m         \u001b[33m\"\u001b[39m\u001b[33mPlease create a job with a circuit and try again.\u001b[39m\u001b[33m\"\u001b[39m\n\u001b[32m    222\u001b[39m     )\n\u001b[32m--> \u001b[39m\u001b[32m223\u001b[39m response = \u001b[38;5;28;43mself\u001b[39;49m\u001b[43m.\u001b[49m\u001b[43m_client\u001b[49m\u001b[43m.\u001b[49m\u001b[43msubmit_job\u001b[49m\u001b[43m(\u001b[49m\u001b[43mjob\u001b[49m\u001b[43m=\u001b[49m\u001b[38;5;28;43mself\u001b[39;49m\u001b[43m)\u001b[49m\n\u001b[32m    224\u001b[39m \u001b[38;5;28mself\u001b[39m._job_id = response[\u001b[33m\"\u001b[39m\u001b[33mid\u001b[39m\u001b[33m\"\u001b[39m]\n",
      "\u001b[36mFile \u001b[39m\u001b[32m~/anaconda3/envs/ionq/lib/python3.11/site-packages/qiskit_ionq/helpers.py:678\u001b[39m, in \u001b[36mretry.<locals>.deco_retry.<locals>.f_retry\u001b[39m\u001b[34m(*args, **kwargs)\u001b[39m\n\u001b[32m    676\u001b[39m \u001b[38;5;28;01mwhile\u001b[39;00m _tries != \u001b[32m0\u001b[39m:\n\u001b[32m    677\u001b[39m     \u001b[38;5;28;01mtry\u001b[39;00m:\n\u001b[32m--> \u001b[39m\u001b[32m678\u001b[39m         \u001b[38;5;28;01mreturn\u001b[39;00m \u001b[43mfunc\u001b[49m\u001b[43m(\u001b[49m\u001b[43m*\u001b[49m\u001b[43margs\u001b[49m\u001b[43m,\u001b[49m\u001b[43m \u001b[49m\u001b[43m*\u001b[49m\u001b[43m*\u001b[49m\u001b[43mkwargs\u001b[49m\u001b[43m)\u001b[49m\n\u001b[32m    679\u001b[39m     \u001b[38;5;28;01mexcept\u001b[39;00m exceptions \u001b[38;5;28;01mas\u001b[39;00m exception:\n\u001b[32m    680\u001b[39m         _tries -= \u001b[32m1\u001b[39m\n",
      "\u001b[36mFile \u001b[39m\u001b[32m~/anaconda3/envs/ionq/lib/python3.11/site-packages/qiskit_ionq/ionq_client.py:148\u001b[39m, in \u001b[36mIonQClient.submit_job\u001b[39m\u001b[34m(self, job)\u001b[39m\n\u001b[32m    141\u001b[39m req_path = \u001b[38;5;28mself\u001b[39m.make_path(\u001b[33m\"\u001b[39m\u001b[33mjobs\u001b[39m\u001b[33m\"\u001b[39m)\n\u001b[32m    142\u001b[39m res = requests.post(\n\u001b[32m    143\u001b[39m     req_path,\n\u001b[32m    144\u001b[39m     data=as_json,\n\u001b[32m    145\u001b[39m     headers=\u001b[38;5;28mself\u001b[39m.api_headers,\n\u001b[32m    146\u001b[39m     timeout=\u001b[32m30\u001b[39m,\n\u001b[32m    147\u001b[39m )\n\u001b[32m--> \u001b[39m\u001b[32m148\u001b[39m \u001b[43mexceptions\u001b[49m\u001b[43m.\u001b[49m\u001b[43mIonQAPIError\u001b[49m\u001b[43m.\u001b[49m\u001b[43mraise_for_status\u001b[49m\u001b[43m(\u001b[49m\u001b[43mres\u001b[49m\u001b[43m)\u001b[49m\n\u001b[32m    149\u001b[39m \u001b[38;5;28;01mreturn\u001b[39;00m res.json()\n",
      "\u001b[36mFile \u001b[39m\u001b[32m~/anaconda3/envs/ionq/lib/python3.11/site-packages/qiskit_ionq/exceptions.py:124\u001b[39m, in \u001b[36mIonQAPIError.raise_for_status\u001b[39m\u001b[34m(cls, response)\u001b[39m\n\u001b[32m    122\u001b[39m \u001b[38;5;28;01mif\u001b[39;00m _is_retriable(response.request.method, status_code):\n\u001b[32m    123\u001b[39m     \u001b[38;5;28;01mraise\u001b[39;00m IonQRetriableError(res)\n\u001b[32m--> \u001b[39m\u001b[32m124\u001b[39m \u001b[38;5;28;01mraise\u001b[39;00m res\n",
      "\u001b[31mIonQAPIError\u001b[39m: IonQAPIError(message='Unable to run jobs on IonQ Aria. Please visit our Quantum Cloud Page https://ionq.com/quantum-cloud to learn more about getting access to our IonQ Aria.',status_code=400,headers={'Date': 'Mon, 11 Aug 2025 03:04:13 GMT', 'Content-Type': 'application/json; charset=utf-8', 'Transfer-Encoding': 'chunked', 'Connection': 'keep-alive', 'CF-RAY': '96d4811cf826f4fc-HKG', 'access-control-allow-credentials': 'true', 'access-control-expose-headers': 'x-ionq-session', 'Cache-Control': 'no-cache', 'strict-transport-security': 'max-age=31536000; includeSubDomains', 'vary': 'origin, Origin', 'x-frame-options': 'DENY', 'cf-cache-status': 'DYNAMIC', 'Server': 'cloudflare'},body={\"statusCode\":400,\"error\":\"Bad Request\",\"message\":\"Unable to run jobs on IonQ Aria. Please visit our Quantum Cloud Page https://ionq.com/quantum-cloud to learn more about getting access to our IonQ Aria.\"},error_type='Bad Request')"
     ]
    }
   ],
   "source": [
    "from qiskit import QuantumCircuit\n",
    "from qiskit_ionq import IonQProvider, ErrorMitigation\n",
    "\n",
    "provider = IonQProvider(my_api_key)\n",
    "qpu_backend = provider.get_backend(\"ionq_qpu.aria-1\")\n",
    "\n",
    "# Create a basic Bell State circuit:\n",
    "qc = QuantumCircuit(2, 2, name=\"Debiasing Off\")\n",
    "qc.h(0)\n",
    "qc.cx(0, 1)\n",
    "qc.measure([0, 1], [0, 1])\n",
    "\n",
    "# Run the circuit on IonQ's platform:\n",
    "job = qpu_backend.run(\n",
    "    qc,\n",
    "    shots=1000,\n",
    "    error_mitigation=ErrorMitigation.NO_DEBIASING\n",
    ")"
   ]
  }
 ],
 "metadata": {
  "kernelspec": {
   "display_name": "ionq",
   "language": "python",
   "name": "python3"
  },
  "language_info": {
   "codemirror_mode": {
    "name": "ipython",
    "version": 3
   },
   "file_extension": ".py",
   "mimetype": "text/x-python",
   "name": "python",
   "nbconvert_exporter": "python",
   "pygments_lexer": "ipython3",
   "version": "3.11.13"
  }
 },
 "nbformat": 4,
 "nbformat_minor": 5
}
