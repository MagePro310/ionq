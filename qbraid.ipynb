{
 "cells": [
  {
   "cell_type": "code",
   "execution_count": 1,
   "id": "42c0827e",
   "metadata": {},
   "outputs": [],
   "source": [
    "my_api_key = \"Z47Z93U4ZOojFB0M9Z7jGICNAecEHAOI\""
   ]
  },
  {
   "cell_type": "code",
   "execution_count": 2,
   "id": "6c171585",
   "metadata": {},
   "outputs": [],
   "source": [
    "import os\n",
    "from qbraid.runtime import IonQProvider\n",
    "\n",
    "# Load your API key from an environment variable named MY_IONQ_API_KEY\n",
    "provider = IonQProvider(my_api_key)"
   ]
  },
  {
   "cell_type": "code",
   "execution_count": 3,
   "id": "e0fa4a66",
   "metadata": {},
   "outputs": [],
   "source": [
    "from qbraid.runtime import IonQProvider\n",
    "\n",
    "provider = IonQProvider(my_api_key)\n",
    "\n",
    "devices = provider.get_devices()"
   ]
  },
  {
   "cell_type": "code",
   "execution_count": 4,
   "id": "df1d1466",
   "metadata": {},
   "outputs": [
    {
     "name": "stdout",
     "output_type": "stream",
     "text": [
      "{'00': 500, '11': 500}\n"
     ]
    }
   ],
   "source": [
    "from qbraid.runtime import IonQProvider\n",
    "\n",
    "provider = IonQProvider(my_api_key)\n",
    "device = provider.get_device(\"simulator\")\n",
    "\n",
    "# Define a Bell state circuit in qasm\n",
    "qasm = \"\"\"\n",
    "OPENQASM 3.0;\n",
    "qubit[2] q;\n",
    "h q[0];\n",
    "cx q[0], q[1];\n",
    "\"\"\"\n",
    "\n",
    "job = device.run(qasm, name=\"Hello many worlds!\", shots=1000)\n",
    "result = job.result()\n",
    "\n",
    "print(result.data.get_counts())"
   ]
  }
 ],
 "metadata": {
  "kernelspec": {
   "display_name": "ionq",
   "language": "python",
   "name": "python3"
  },
  "language_info": {
   "codemirror_mode": {
    "name": "ipython",
    "version": 3
   },
   "file_extension": ".py",
   "mimetype": "text/x-python",
   "name": "python",
   "nbconvert_exporter": "python",
   "pygments_lexer": "ipython3",
   "version": "3.11.13"
  }
 },
 "nbformat": 4,
 "nbformat_minor": 5
}
